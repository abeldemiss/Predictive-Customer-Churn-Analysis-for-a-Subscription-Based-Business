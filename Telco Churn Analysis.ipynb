{
 "cells": [
  {
   "cell_type": "code",
   "execution_count": null,
   "metadata": {},
   "outputs": [],
   "source": [
    "# Import Pandas\n",
    "import pandas as pd\n",
    "# Load Excel file into a Pandas DataFrame\n",
    "telco_df = pd.read_excel(\"/Users/abel/Documents/Telco Customer Churn Dataset/Telco_customer_churn.xlsx\")\n",
    "# Display DataFrame\n",
    "telco_df"
   ]
  },
  {
   "cell_type": "code",
   "execution_count": null,
   "metadata": {},
   "outputs": [],
   "source": [
    "# Check summary statistics and data types\n",
    "print(telco_df.info())\n",
    "print(telco_df.describe())"
   ]
  },
  {
   "cell_type": "code",
   "execution_count": null,
   "metadata": {},
   "outputs": [],
   "source": [
    "# Explore the target variable\n",
    "print(telco_df['Churn Value'].value_counts())"
   ]
  },
  {
   "cell_type": "code",
   "execution_count": null,
   "metadata": {},
   "outputs": [],
   "source": [
    "import matplotlib.pyplot as plt\n",
    "# Histogram for tenure months by churn\n",
    "plt.hist(telco_df[telco_df['Churn Value'] == 1]['Tenure Months'], bins=30, color='red', alpha=0.5, label='Churn')\n",
    "plt.hist(telco_df[telco_df['Churn Value'] == 0]['Tenure Months'], bins=30, color='blue', alpha=0.5, label='Retained')\n",
    "plt.xlabel('Tenure Months')\n",
    "plt.ylabel('Frequency')\n",
    "plt.title('Distribution of Tenure Months by Churn')\n",
    "plt.legend()\n",
    "plt.show()"
   ]
  },
  {
   "cell_type": "code",
   "execution_count": null,
   "metadata": {},
   "outputs": [],
   "source": [
    "# Bar plot for internet service by churn\n",
    "pd.crosstab(telco_df['Internet Service'], telco_df['Churn Label']).plot(kind='bar', stacked=True)\n",
    "plt.xlabel('Internet Service')\n",
    "plt.ylabel('Count')\n",
    "plt.title('Distribution of Internet Service by Churn')\n",
    "plt.show()"
   ]
  }
 ],
 "metadata": {
  "language_info": {
   "name": "python"
  }
 },
 "nbformat": 4,
 "nbformat_minor": 2
}
